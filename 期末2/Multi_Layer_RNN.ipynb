{
  "nbformat": 4,
  "nbformat_minor": 0,
  "metadata": {
    "colab": {
      "provenance": []
    },
    "kernelspec": {
      "name": "python3",
      "display_name": "Python 3"
    },
    "language_info": {
      "name": "python"
    }
  },
  "cells": [
    {
      "cell_type": "code",
      "execution_count": 5,
      "metadata": {
        "id": "VRRp1oq8bLZJ"
      },
      "outputs": [],
      "source": [
        "import numpy as np\n",
        "import tensorflow as tf\n",
        "\n",
        "class MultiLayerRNN:\n",
        "    def __init__(self, n_inputs, n_hidden_layers, n_hidden_units, n_output, lr=0.001):\n",
        "        self.n_inputs = n_inputs\n",
        "        self.n_hidden_layers = n_hidden_layers\n",
        "        self.n_hidden_units = n_hidden_units\n",
        "        self.n_output = n_output\n",
        "        self.lr = lr\n",
        "\n",
        "        self.U = [tf.Variable(tf.random.normal((n_hidden_units, n_inputs), stddev=0.01)) for _ in range(n_hidden_layers)]\n",
        "        self.W = [tf.Variable(tf.random.normal((n_hidden_units, n_hidden_units), stddev=0.01)) for _ in range(n_hidden_layers)]\n",
        "        self.V = tf.Variable(tf.random.normal((n_output, n_hidden_units), stddev=0.01))\n",
        "        self.b = [tf.Variable(tf.zeros((n_hidden_units, 1))) for _ in range(n_hidden_layers)]\n",
        "        self.c = tf.Variable(tf.zeros((n_output, 1)))\n",
        "\n",
        "    def forward(self, X):\n",
        "        T = X.shape[0]\n",
        "        self.h = [tf.zeros((T, self.n_hidden_units)) for _ in range(self.n_hidden_layers)]\n",
        "        self.y = tf.zeros((T, self.n_output))\n",
        "\n",
        "        for t in range(T):\n",
        "            self.h[0][t] = tf.tanh(tf.matmul(self.U[0], X[t]) + tf.matmul(self.W[0], self.h[0][t-1]) + self.b[0])\n",
        "            for l in range(1, self.n_hidden_layers):\n",
        "                self.h[l][t] = tf.tanh(tf.matmul(self.U[l], self.h[l-1][t]) + tf.matmul(self.W[l], self.h[l][t-1]) + self.b[l])\n",
        "            self.y[t] = tf.matmul(self.V, self.h[-1][t]) + self.c\n",
        "\n",
        "        return self.y\n",
        "\n",
        "    def backward(self, X, y, y_pred):\n",
        "        T = X.shape[0]\n",
        "        dU = [tf.zeros_like(self.U[l]) for l in range(self.n_hidden_layers)]\n",
        "        dW = [tf.zeros_like(self.W[l]) for l in range(self.n_hidden_layers)]\n",
        "        dV = tf.zeros_like(self.V)\n",
        "        db = [tf.zeros_like(self.b[l]) for l in range(self.n_hidden_layers)]\n",
        "        dc = tf.zeros_like(self.c)\n",
        "\n",
        "        dh_next = [tf.zeros_like(self.h[0][0]) for _ in range(self.n_hidden_layers)]\n",
        "\n",
        "        for t in reversed(range(T)):\n",
        "            dy = y_pred[t] - y[t]\n",
        "            dV += tf.linalg.matmul(dy, tf.transpose(self.h[-1][t]))\n",
        "            dc += dy\n",
        "\n",
        "            dh = tf.linalg.matmul(tf.transpose(self.V), dy) + dh_next[-1]\n",
        "            dh_raw = (1 - self.h[-1][t] ** 2) * dh\n",
        "            db[-1] += dh_raw\n",
        "            dU[-1] += tf.linalg.matmul(dh_raw, tf.transpose(self.h[-2][t]))\n",
        "            dW[-1] += tf.linalg.matmul(dh_raw, tf.transpose(self.h[-1][t-1]))\n",
        "            dh_next[-1] = tf.linalg.matmul(tf.transpose(self.W[-1]), dh_raw)\n",
        "\n",
        "            for l in reversed(range(self.n_hidden_layers - 1)):\n",
        "                dh = dh_next[l+1] + tf.linalg.matmul(tf.transpose(self.U[l+1]), dh_raw)\n",
        "                dh_raw = (1 - self.h[l][t] ** 2) * dh\n",
        "                db[l] += dh_raw\n",
        "                dU[l] += tf.linalg.matmul(dh_raw, X[t] if l == 0 else tf.transpose(self.h[l-1][t]))\n",
        "                dW[l] += tf.linalg.matmul(dh_raw, tf.transpose(self.h[l][t-1]))\n",
        "                dh_next[l] = tf.linalg.matmul(tf.transpose(self.W[l]), dh_raw)\n",
        "\n",
        "        for dparam in dU + dW + db + [dV, dc]:\n",
        "            dparam = tf.clip_by_value(dparam, -1, 1)\n",
        "\n",
        "        for l in range(self.n_hidden_layers):\n",
        "            self.U[l] -= self.lr * dU[l]\n",
        "            self.W[l] -= self.lr * dW[l]\n",
        "            self.b[l] -= self.lr * db[l]\n",
        "        self.V -= self.lr * dV\n",
        "        self.c -= self.lr * dc\n",
        "\n",
        "    def train(self, X_train, y_train, n_epochs=1000):\n",
        "        for epoch in range(n_epochs):\n",
        "            for X, y in zip(X_train, y_train):\n",
        "                y_pred = self.forward(X)\n",
        "                self.backward(X, y, y_pred)\n",
        "            if epoch % 100 == 0:\n",
        "                loss = tf.reduce_mean(tf.nn.sigmoid_cross_entropy_with_logits(labels=y_train, logits=self.predict(X_train)))\n",
        "                print(f'Epoch {epoch}, Loss: {loss}')\n",
        "\n",
        "    def predict(self, X):\n",
        "        y_pred = [self.forward(x) for x in X]\n",
        "        return tf.concat(y_pred, axis=0)\n"
      ]
    },
    {
      "cell_type": "code",
      "source": [
        "class MultiLayerRNN:\n",
        "    def __init__(self, n_inputs, n_hidden_layers, n_hidden_units, n_output, lr=0.001):\n",
        "        self.n_inputs = n_inputs\n",
        "        self.n_hidden_layers = n_hidden_layers\n",
        "        self.n_hidden_units = n_hidden_units\n",
        "        self.n_output = n_output\n",
        "        self.lr = lr\n",
        "\n",
        "        self.U = [np.random.randn(n_hidden_units, n_inputs) * 0.01] + \\\n",
        "                 [np.random.randn(n_hidden_units, n_hidden_units) * 0.01 for _ in range(n_hidden_layers - 1)]\n",
        "        self.W = [np.random.randn(n_hidden_units, n_hidden_units) * 0.01 for _ in range(n_hidden_layers)]\n",
        "        self.V = np.random.randn(n_output, n_hidden_units) * 0.01\n",
        "        self.b = [np.zeros((n_hidden_units, 1)) for _ in range(n_hidden_layers)]\n",
        "        self.c = np.zeros((n_output, 1))\n",
        "\n",
        "    def forward(self, X):\n",
        "        T = X.shape[0]\n",
        "        self.h = [np.zeros((T, self.n_hidden_units)) for _ in range(self.n_hidden_layers)]\n",
        "        self.y = np.zeros((T, self.n_output))\n",
        "\n",
        "        for t in range(T):\n",
        "            self.h[0][t] = np.tanh(np.dot(self.U[0], X[t]) + np.dot(self.W[0], self.h[0][t-1]) + self.b[0])\n",
        "            for l in range(1, self.n_hidden_layers):\n",
        "                self.h[l][t] = np.tanh(np.dot(self.U[l], self.h[l-1][t]) + np.dot(self.W[l], self.h[l][t-1]) + self.b[l])\n",
        "            self.y[t] = np.dot(self.V, self.h[-1][t]) + self.c\n",
        "\n",
        "        return self.y\n"
      ],
      "metadata": {
        "id": "96VsZQ7beuT_"
      },
      "execution_count": 6,
      "outputs": []
    },
    {
      "cell_type": "code",
      "source": [
        "    def backward(self, X, y, y_pred):\n",
        "        T = X.shape[0]\n",
        "        dU = [np.zeros_like(self.U[l]) for l in range(self.n_hidden_layers)]\n",
        "        dW = [np.zeros_like(self.W[l]) for l in range(self.n_hidden_layers)]\n",
        "        dV = np.zeros_like(self.V)\n",
        "        db = [np.zeros_like(self.b[l]) for l in range(self.n_hidden_layers)]\n",
        "        dc = np.zeros_like(self.c)\n",
        "\n",
        "        dh_next = [np.zeros_like(self.h[0][0]) for _ in range(self.n_hidden_layers)]\n",
        "\n",
        "        for t in reversed(range(T)):\n",
        "            dy = y_pred[t] - y[t]\n",
        "            dV += np.outer(dy, self.h[-1][t])\n",
        "            dc += dy\n",
        "\n",
        "            dh = np.dot(self.V.T, dy) + dh_next[-1]\n",
        "            dh_raw = (1 - self.h[-1][t] ** 2) * dh\n",
        "            db[-1] += dh_raw\n",
        "            dU[-1] += np.outer(dh_raw, self.h[-2][t])\n",
        "            dW[-1] += np.outer(dh_raw, self.h[-1][t-1])\n",
        "            dh_next[-1] = np.dot(self.W[-1].T, dh_raw)\n",
        "\n",
        "            for l in reversed(range(self.n_hidden_layers - 1)):\n",
        "                dh = dh_next[l+1] + np.dot(self.U[l+1].T, dh_raw)\n",
        "                dh_raw = (1 - self.h[l][t] ** 2) * dh\n",
        "                db[l] += dh_raw\n",
        "                dU[l] += np.outer(dh_raw, X[t] if l == 0 else self.h[l-1][t])\n",
        "                dW[l] += np.outer(dh_raw, self.h[l][t-1])\n",
        "                dh_next[l] = np.dot(self.W[l].T, dh_raw)\n",
        "\n",
        "        for dparam in dU + dW + db + [dV, dc]:\n",
        "            np.clip(dparam, -1, 1, out=dparam)\n",
        "\n",
        "        for l in range(self.n_hidden_layers):\n",
        "            self.U[l] -= self.lr * dU[l]\n",
        "            self.W[l] -= self.lr * dW[l]\n",
        "            self.b[l] -= self.lr * db[l]\n",
        "        self.V -= self.lr * dV\n",
        "        self.c -= self.lr * dc\n"
      ],
      "metadata": {
        "id": "KtMd8ARmewmW"
      },
      "execution_count": 7,
      "outputs": []
    },
    {
      "cell_type": "code",
      "source": [
        "    def train(self, X_train, y_train, n_epochs=1000):\n",
        "        for epoch in range(n_epochs):\n",
        "            for X, y in zip(X_train, y_train):\n",
        "                y_pred = self.forward(X)\n",
        "                self.backward(X, y, y_pred)\n",
        "            if epoch % 100 == 0:\n",
        "                loss = CrossEntropy()(y_train, self.predict(X_train))\n",
        "                print(f'Epoch {epoch}, Loss: {loss}')\n",
        "\n",
        "    def predict(self, X):\n",
        "        y_pred = [self.forward(x) for x in X]\n",
        "        return np.array(y_pred).squeeze()\n"
      ],
      "metadata": {
        "id": "3Ng2YJ74ey_W"
      },
      "execution_count": 8,
      "outputs": []
    },
    {
      "cell_type": "code",
      "source": [
        "print(\"X_train shape:\", X_train.shape)\n",
        "print(\"y_train shape:\", y_train.shape)\n"
      ],
      "metadata": {
        "colab": {
          "base_uri": "https://localhost:8080/"
        },
        "id": "iiC88Xf1e3Pz",
        "outputId": "b2bb4bcd-d19e-4745-ec13-abd3d3dfc883"
      },
      "execution_count": 11,
      "outputs": [
        {
          "output_type": "stream",
          "name": "stdout",
          "text": [
            "X_train shape: (100, 10, 1)\n",
            "y_train shape: (100, 10, 1)\n"
          ]
        }
      ]
    },
    {
      "cell_type": "code",
      "source": [
        "def train(self, X_train, y_train, n_epochs=1000):\n",
        "    losses = []\n",
        "    for epoch in range(n_epochs):\n",
        "        epoch_loss = 0\n",
        "        for X, y in zip(X_train, y_train):\n",
        "            y_pred = self.forward(X)\n",
        "            loss = tf.reduce_mean(tf.nn.sigmoid_cross_entropy_with_logits(labels=y, logits=y_pred))\n",
        "            self.backward(X, y, y_pred)\n",
        "            epoch_loss += loss\n",
        "        losses.append(epoch_loss)\n",
        "        if epoch % 100 == 0:\n",
        "            print(f'Epoch {epoch}, Loss: {epoch_loss}')\n",
        "    return losses\n"
      ],
      "metadata": {
        "id": "wEBeKwPNfmI-"
      },
      "execution_count": 17,
      "outputs": []
    },
    {
      "cell_type": "code",
      "source": [
        "def forward(self, X):\n",
        "    T = X.shape[0]\n",
        "    self.h = [tf.zeros((T, self.n_hidden_units)) for _ in range(self.n_hidden_layers)]\n",
        "    self.y = tf.zeros((T, self.n_output))\n",
        "\n",
        "    for t in range(T):\n",
        "        self.h[0][t] = tf.tanh(tf.matmul(self.U[0], X[t]) + tf.matmul(self.W[0], self.h[0][t-1]) + self.b[0])\n",
        "        for l in range(1, self.n_hidden_layers):\n",
        "            self.h[l][t] = tf.tanh(tf.matmul(self.U[l], self.h[l-1][t]) + tf.matmul(self.W[l], self.h[l-1][t-1]) + self.b[l])\n",
        "        self.y[t] = tf.matmul(self.V, self.h[-1][t]) + self.c\n",
        "\n",
        "    return self.y\n"
      ],
      "metadata": {
        "id": "kHrKmr5-gALD"
      },
      "execution_count": 26,
      "outputs": []
    },
    {
      "cell_type": "markdown",
      "source": [
        "在這個forward方法中，使用了一個迴圈來遍歷序列中的每個時間步。在每個時間步中，模型將訊息通過多個隱藏層來處理，這就是多層級結構的體現。在內部迴圈中，遍歷了每個隱藏層，對於每一層都使用當前隱藏層的輸出來計算下一層隱藏層的輸出，所以這個程式中的「多層級」主要體現在模型的前向傳播過程中，通過多個隱藏層來處理訊息。"
      ],
      "metadata": {
        "id": "3tQwoRHRj9h5"
      }
    },
    {
      "cell_type": "code",
      "source": [
        "import matplotlib.pyplot as plt\n",
        "import numpy as np\n",
        "\n",
        "# 隨機選擇一些序列來展示\n",
        "num_samples = 3\n",
        "sample_indices = np.random.choice(len(X_train), num_samples, replace=False)\n",
        "\n",
        "# 繪製每個序列的預測結果\n",
        "for i, idx in enumerate(sample_indices):\n",
        "    plt.figure(figsize=(10, 5))\n",
        "    plt.plot(y_train[idx], label='Actual')\n",
        "    plt.plot(predictions[idx], label='Predicted')\n",
        "    plt.xlabel('Time Step')\n",
        "    plt.ylabel('Value')\n",
        "    plt.title(f'Sequence {idx + 1} Prediction')\n",
        "    plt.legend()\n",
        "    plt.show()\n"
      ],
      "metadata": {
        "colab": {
          "base_uri": "https://localhost:8080/",
          "height": 639
        },
        "id": "Ag139ALeheak",
        "outputId": "697879bd-a54b-4594-c1ae-198aed89e13a"
      },
      "execution_count": 29,
      "outputs": [
        {
          "output_type": "error",
          "ename": "NameError",
          "evalue": "name 'predictions' is not defined",
          "traceback": [
            "\u001b[0;31m---------------------------------------------------------------------------\u001b[0m",
            "\u001b[0;31mNameError\u001b[0m                                 Traceback (most recent call last)",
            "\u001b[0;32m<ipython-input-29-3dcd5bf77142>\u001b[0m in \u001b[0;36m<cell line: 9>\u001b[0;34m()\u001b[0m\n\u001b[1;32m     10\u001b[0m     \u001b[0mplt\u001b[0m\u001b[0;34m.\u001b[0m\u001b[0mfigure\u001b[0m\u001b[0;34m(\u001b[0m\u001b[0mfigsize\u001b[0m\u001b[0;34m=\u001b[0m\u001b[0;34m(\u001b[0m\u001b[0;36m10\u001b[0m\u001b[0;34m,\u001b[0m \u001b[0;36m5\u001b[0m\u001b[0;34m)\u001b[0m\u001b[0;34m)\u001b[0m\u001b[0;34m\u001b[0m\u001b[0;34m\u001b[0m\u001b[0m\n\u001b[1;32m     11\u001b[0m     \u001b[0mplt\u001b[0m\u001b[0;34m.\u001b[0m\u001b[0mplot\u001b[0m\u001b[0;34m(\u001b[0m\u001b[0my_train\u001b[0m\u001b[0;34m[\u001b[0m\u001b[0midx\u001b[0m\u001b[0;34m]\u001b[0m\u001b[0;34m,\u001b[0m \u001b[0mlabel\u001b[0m\u001b[0;34m=\u001b[0m\u001b[0;34m'Actual'\u001b[0m\u001b[0;34m)\u001b[0m\u001b[0;34m\u001b[0m\u001b[0;34m\u001b[0m\u001b[0m\n\u001b[0;32m---> 12\u001b[0;31m     \u001b[0mplt\u001b[0m\u001b[0;34m.\u001b[0m\u001b[0mplot\u001b[0m\u001b[0;34m(\u001b[0m\u001b[0mpredictions\u001b[0m\u001b[0;34m[\u001b[0m\u001b[0midx\u001b[0m\u001b[0;34m]\u001b[0m\u001b[0;34m,\u001b[0m \u001b[0mlabel\u001b[0m\u001b[0;34m=\u001b[0m\u001b[0;34m'Predicted'\u001b[0m\u001b[0;34m)\u001b[0m\u001b[0;34m\u001b[0m\u001b[0;34m\u001b[0m\u001b[0m\n\u001b[0m\u001b[1;32m     13\u001b[0m     \u001b[0mplt\u001b[0m\u001b[0;34m.\u001b[0m\u001b[0mxlabel\u001b[0m\u001b[0;34m(\u001b[0m\u001b[0;34m'Time Step'\u001b[0m\u001b[0;34m)\u001b[0m\u001b[0;34m\u001b[0m\u001b[0;34m\u001b[0m\u001b[0m\n\u001b[1;32m     14\u001b[0m     \u001b[0mplt\u001b[0m\u001b[0;34m.\u001b[0m\u001b[0mylabel\u001b[0m\u001b[0;34m(\u001b[0m\u001b[0;34m'Value'\u001b[0m\u001b[0;34m)\u001b[0m\u001b[0;34m\u001b[0m\u001b[0;34m\u001b[0m\u001b[0m\n",
            "\u001b[0;31mNameError\u001b[0m: name 'predictions' is not defined"
          ]
        },
        {
          "output_type": "display_data",
          "data": {
            "text/plain": [
              "<Figure size 1000x500 with 1 Axes>"
            ],
            "image/png": "[encoded data removed]"
          },
          "metadata": {}
        }
      ]
    }
  ]
}